{
  "nbformat": 4,
  "nbformat_minor": 0,
  "metadata": {
    "colab": {
      "provenance": [],
      "authorship_tag": "ABX9TyMUsAsyGjLs9GlT0l6KjD6m",
      "include_colab_link": true
    },
    "kernelspec": {
      "name": "python3",
      "display_name": "Python 3"
    },
    "language_info": {
      "name": "python"
    }
  },
  "cells": [
    {
      "cell_type": "markdown",
      "metadata": {
        "id": "view-in-github",
        "colab_type": "text"
      },
      "source": [
        "<a href=\"https://colab.research.google.com/github/Aneesh353/AIML-2025/blob/main/2303A510I6(batch_10)_q1.ipynb\" target=\"_parent\"><img src=\"https://colab.research.google.com/assets/colab-badge.svg\" alt=\"Open In Colab\"/></a>"
      ]
    },
    {
      "cell_type": "markdown",
      "source": [
        "**bold text**\n",
        "Indivdual household consumption\n",
        "1. Identify the top 5 reasons for electricity consumption?\n",
        "2. Name the date and time when consumption was high?\n",
        "3. Find the max and min levels of electricity consumption?\n",
        "4. which among the sub metering system has the highest consumption?\n",
        "5. Identify the consumption counts of global electricity values?\n",
        "6. Apply the k-means clustering model to the dataset and evaluate its metrics, error and accuracy."
      ],
      "metadata": {
        "id": "PufSfZtQ71JA"
      }
    },
    {
      "cell_type": "code",
      "execution_count": 1,
      "metadata": {
        "colab": {
          "base_uri": "https://localhost:8080/"
        },
        "id": "nmK1p1W32TMp",
        "outputId": "011cce08-ec98-416f-f99c-cf1e54ee5ce6"
      },
      "outputs": [
        {
          "output_type": "stream",
          "name": "stderr",
          "text": [
            "<ipython-input-1-70d645687a23>:3: FutureWarning: The argument 'infer_datetime_format' is deprecated and will be removed in a future version. A strict version of it is now the default, see https://pandas.pydata.org/pdeps/0004-consistent-to-datetime-parsing.html. You can safely remove this argument.\n",
            "  data = pd.read_csv(file_path, sep=';', low_memory=False, na_values='?', infer_datetime_format=True)\n"
          ]
        },
        {
          "output_type": "stream",
          "name": "stdout",
          "text": [
            "         Date      Time  Global_active_power  Global_reactive_power  Voltage  \\\n",
            "0  16/12/2006  17:24:00                4.216                  0.418   234.84   \n",
            "1  16/12/2006  17:25:00                5.360                  0.436   233.63   \n",
            "2  16/12/2006  17:26:00                5.374                  0.498   233.29   \n",
            "3  16/12/2006  17:27:00                5.388                  0.502   233.74   \n",
            "4  16/12/2006  17:28:00                3.666                  0.528   235.68   \n",
            "\n",
            "   Global_intensity  Sub_metering_1  Sub_metering_2  Sub_metering_3  \n",
            "0              18.4             0.0             1.0            17.0  \n",
            "1              23.0             0.0             1.0            16.0  \n",
            "2              23.0             0.0             2.0            17.0  \n",
            "3              23.0             0.0             1.0            17.0  \n",
            "4              15.8             0.0             1.0            17.0  \n",
            "<class 'pandas.core.frame.DataFrame'>\n",
            "RangeIndex: 2075259 entries, 0 to 2075258\n",
            "Data columns (total 9 columns):\n",
            " #   Column                 Dtype  \n",
            "---  ------                 -----  \n",
            " 0   Date                   object \n",
            " 1   Time                   object \n",
            " 2   Global_active_power    float64\n",
            " 3   Global_reactive_power  float64\n",
            " 4   Voltage                float64\n",
            " 5   Global_intensity       float64\n",
            " 6   Sub_metering_1         float64\n",
            " 7   Sub_metering_2         float64\n",
            " 8   Sub_metering_3         float64\n",
            "dtypes: float64(7), object(2)\n",
            "memory usage: 142.5+ MB\n",
            "None\n"
          ]
        }
      ],
      "source": [
        "import pandas as pd\n",
        "file_path = '/content/individual+household+electric+power+consumption.zip'\n",
        "data = pd.read_csv(file_path, sep=';', low_memory=False, na_values='?', infer_datetime_format=True)\n",
        "print(data.head())\n",
        "print(data.info())"
      ]
    },
    {
      "cell_type": "code",
      "source": [
        "consumption_summary = {\n",
        "    'Global_active_power': data['Global_active_power'].sum(),\n",
        "    'Sub_metering_1': data['Sub_metering_1'].sum(),\n",
        "    'Sub_metering_2': data['Sub_metering_2'].sum(),\n",
        "    'Sub_metering_3': data['Sub_metering_3'].sum(),\n",
        "    'Global_reactive_power': data['Global_reactive_power'].sum()\n",
        "}\n",
        "top_consumption_reasons = sorted(consumption_summary.items(), key=lambda x: x[1], reverse=True)\n",
        "top_consumption_reasons[:5]"
      ],
      "metadata": {
        "colab": {
          "base_uri": "https://localhost:8080/"
        },
        "id": "8XGW3Q_c65Up",
        "outputId": "439559ff-ea79-491a-c51a-4f846f6e51c3"
      },
      "execution_count": 2,
      "outputs": [
        {
          "output_type": "execute_result",
          "data": {
            "text/plain": [
              "[('Sub_metering_3', 13235167.0),\n",
              " ('Sub_metering_2', 2661031.0),\n",
              " ('Sub_metering_1', 2299135.0),\n",
              " ('Global_active_power', 2237024.8619999997),\n",
              " ('Global_reactive_power', 253525.60199999998)]"
            ]
          },
          "metadata": {},
          "execution_count": 2
        }
      ]
    },
    {
      "cell_type": "code",
      "source": [
        "data['DateTime'] = pd.to_datetime(data['Date'] + ' ' + data['Time'], format='%d/%m/%Y %H:%M:%S', errors='coerce')"
      ],
      "metadata": {
        "id": "t9rRsc7V7AHb"
      },
      "execution_count": 3,
      "outputs": []
    },
    {
      "cell_type": "code",
      "source": [
        "max_row = data.loc[data['Global_active_power'].idxmax()]\n",
        "print(\"Highest Consumption at:\", max_row['DateTime'])\n",
        "print(\"Consumption Value:\", max_row['Global_active_power'])"
      ],
      "metadata": {
        "colab": {
          "base_uri": "https://localhost:8080/"
        },
        "id": "0ZZVJ-JD7ByL",
        "outputId": "9914ecdf-74c4-4398-ef1b-ecd87ab03b49"
      },
      "execution_count": 4,
      "outputs": [
        {
          "output_type": "stream",
          "name": "stdout",
          "text": [
            "Highest Consumption at: 2009-02-22 17:09:00\n",
            "Consumption Value: 11.122\n"
          ]
        }
      ]
    },
    {
      "cell_type": "code",
      "source": [
        "max_power = data['Global_active_power'].max()\n",
        "min_power = data['Global_active_power'].min()\n",
        "print(\"Max Power Consumption:\", max_power)\n",
        "print(\"Min Power Consumption:\", min_power)"
      ],
      "metadata": {
        "colab": {
          "base_uri": "https://localhost:8080/"
        },
        "id": "cmsH_dyn7JfU",
        "outputId": "3683aa55-2007-497c-e5f3-abb11b218552"
      },
      "execution_count": 5,
      "outputs": [
        {
          "output_type": "stream",
          "name": "stdout",
          "text": [
            "Max Power Consumption: 11.122\n",
            "Min Power Consumption: 0.076\n"
          ]
        }
      ]
    },
    {
      "cell_type": "code",
      "source": [
        "sub_metering_totals = {\n",
        "    'Sub_metering_1': data['Sub_metering_1'].sum(),\n",
        "    'Sub_metering_2': data['Sub_metering_2'].sum(),\n",
        "    'Sub_metering_3': data['Sub_metering_3'].sum()\n",
        "}\n",
        "\n",
        "max_sub = max(sub_metering_totals, key=sub_metering_totals.get)\n",
        "print(\"Highest Sub-metering System:\", max_sub)\n",
        "print(\"Consumption Value:\", sub_metering_totals[max_sub])"
      ],
      "metadata": {
        "colab": {
          "base_uri": "https://localhost:8080/"
        },
        "id": "thvBR3fa7MDG",
        "outputId": "b1cbfbd6-ffa5-448d-dede-a4ce2f0d173e"
      },
      "execution_count": 6,
      "outputs": [
        {
          "output_type": "stream",
          "name": "stdout",
          "text": [
            "Highest Sub-metering System: Sub_metering_3\n",
            "Consumption Value: 13235167.0\n"
          ]
        }
      ]
    },
    {
      "cell_type": "code",
      "source": [
        "consumption_counts = data['Global_active_power'].value_counts().sort_index()\n",
        "print(consumption_counts.head())"
      ],
      "metadata": {
        "colab": {
          "base_uri": "https://localhost:8080/"
        },
        "id": "17xgbiiL7O5r",
        "outputId": "380a0636-dc32-4103-9a5b-f9988a4c95db"
      },
      "execution_count": 7,
      "outputs": [
        {
          "output_type": "stream",
          "name": "stdout",
          "text": [
            "Global_active_power\n",
            "0.076       9\n",
            "0.078     791\n",
            "0.080    5230\n",
            "0.082    4466\n",
            "0.084     703\n",
            "Name: count, dtype: int64\n"
          ]
        }
      ]
    },
    {
      "cell_type": "code",
      "source": [
        "from sklearn.cluster import KMeans\n",
        "from sklearn.preprocessing import StandardScaler\n",
        "\n",
        "clustering_data = data[['Global_active_power', 'Global_reactive_power', 'Voltage', 'Global_intensity']].fillna(0)\n",
        "\n",
        "scaler = StandardScaler()\n",
        "scaled_data = scaler.fit_transform(clustering_data)\n",
        "\n",
        "kmeans = KMeans(n_clusters=3, random_state=42)\n",
        "clusters = kmeans.fit_predict(scaled_data)\n",
        "\n",
        "data['Cluster'] = clusters\n",
        "print(\"Inertia:\", kmeans.inertia_)\n",
        "print(\"Cluster Centers:\", kmeans.cluster_centers_)"
      ],
      "metadata": {
        "colab": {
          "base_uri": "https://localhost:8080/"
        },
        "id": "k3UqCSHc7mCM",
        "outputId": "d4e2003a-eca8-4b13-9484-bbfcca11683d"
      },
      "execution_count": 8,
      "outputs": [
        {
          "output_type": "stream",
          "name": "stdout",
          "text": [
            "Inertia: 4572878.265577109\n",
            "Cluster Centers: [[ 2.35873725  1.01314672 -0.00399165  2.38057781]\n",
            " [ 0.50766791 -0.00498938  0.08414028  0.48936985]\n",
            " [-0.68649137 -0.15596862 -0.05177035 -0.67852575]]\n"
          ]
        }
      ]
    }
  ]
}