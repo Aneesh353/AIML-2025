{
  "nbformat": 4,
  "nbformat_minor": 0,
  "metadata": {
    "colab": {
      "provenance": [],
      "authorship_tag": "ABX9TyO1qtYoSBehwdOCPtqiFQ+G",
      "include_colab_link": true
    },
    "kernelspec": {
      "name": "python3",
      "display_name": "Python 3"
    },
    "language_info": {
      "name": "python"
    }
  },
  "cells": [
    {
      "cell_type": "markdown",
      "metadata": {
        "id": "view-in-github",
        "colab_type": "text"
      },
      "source": [
        "<a href=\"https://colab.research.google.com/github/Aneesh353/AIML-2025/blob/main/Lab3.ipynb\" target=\"_parent\"><img src=\"https://colab.research.google.com/assets/colab-badge.svg\" alt=\"Open In Colab\"/></a>"
      ]
    },
    {
      "cell_type": "code",
      "execution_count": 3,
      "metadata": {
        "id": "d9bZcsjtNY6j"
      },
      "outputs": [],
      "source": [
        "from collections import namedtuple, Counter , defaultdict\n",
        "import random\n",
        "import math\n",
        "import functools\n",
        "cache=functools.lru_cache(10**6)"
      ]
    },
    {
      "cell_type": "code",
      "source": [
        "class game:\n",
        "  \"\"\"A game is similar to a problem, but it has a terminal test instead of a goal test, and a\n",
        "   utility for each terminal state,to subclass this class implement 'actions', 'result',and'utility'.\n",
        "   you will also need to set the intial state;this can be done in the constructor.\"\"\"\n",
        "\n",
        "  def actions(self,state):\n",
        "    raise NotImplementedError\n",
        "\n",
        "  def result(self,state,move):\n",
        "    raise NotImplementedError\n",
        "\n",
        "  def is_terminal(self,state):\n",
        "    return not self.actions(state)\n",
        "\n",
        "  def utility(self,state,player):\n",
        "    raise NotImplementedError"
      ],
      "metadata": {
        "id": "Q11lLFd0Q9Qu"
      },
      "execution_count": 5,
      "outputs": []
    },
    {
      "cell_type": "code",
      "source": [
        "def play_Game(game ,stratagies: dict,verbose=False):\n",
        "  state=game.intial\n",
        "  while not game.is_terminal(state):\n",
        "    player=state.to_move\n",
        "    move=stratagies[player](game,state)\n",
        "    state=game.result(state,move)\n",
        "    if verbose:\n",
        "      print('Player',player,'move',move)\n",
        "      return sate\n",
        ""
      ],
      "metadata": {
        "id": "o7gLwLo_TG9_"
      },
      "execution_count": 6,
      "outputs": []
    },
    {
      "cell_type": "code",
      "source": [
        "def minimax_search(game,state):\n",
        "  player = state.to_move\n",
        "  def max_value(state):\n",
        "    if game.is_terminal(state):\n",
        "      return game.utility(state,player)\n",
        "    v=-infinity\n",
        "    for a in game.actions(state):\n",
        "      v=max(v,min_value(game.result(state,a)))\n",
        "    return v,move"
      ],
      "metadata": {
        "id": "ANVAnmIFgLzn"
      },
      "execution_count": null,
      "outputs": []
    },
    {
      "cell_type": "code",
      "source": [
        "def minimax_search(game, state):\n",
        "    player = state.to_move\n",
        "\n",
        "    def max_value(state):\n",
        "        if game.is_terminal(state):\n",
        "            return game.utility(state, player), None\n",
        "        v, move = float('-inf'), None\n",
        "        for a in game.actions(state):\n",
        "            v2, _ = min_value(game.result(state, a))\n",
        "            if v2 > v:\n",
        "                v, move = v2, a\n",
        "        return v, move\n",
        "\n",
        "    def min_value(state):\n",
        "        if game.is_terminal(state):\n",
        "            return game.utility(state, player), None\n",
        "        v, move = float('inf'), None\n",
        "        for a in game.actions(state):\n",
        "            v2, _ = max_value(game.result(state, a))\n",
        "            if v2 < v:\n",
        "                v, move = v2, a\n",
        "        return v, move\n",
        "\n",
        "    _, move = max_value(state)\n",
        "    return move"
      ],
      "metadata": {
        "id": "gRHfWZ4qgNLs"
      },
      "execution_count": 12,
      "outputs": []
    }
  ]
}